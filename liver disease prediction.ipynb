{
 "cells": [
  {
   "cell_type": "code",
   "execution_count": 1,
   "id": "88ac0707",
   "metadata": {},
   "outputs": [],
   "source": [
    "import numpy as np\n",
    "import pandas as pd\n",
    "import seaborn as sns\n",
    "import joblib\n",
    "import matplotlib.pyplot as plt\n",
    "from sklearn.metrics import accuracy_score\n",
    "from sklearn.model_selection import train_test_split"
   ]
  },
  {
   "cell_type": "code",
   "execution_count": 2,
   "id": "275d96d2",
   "metadata": {},
   "outputs": [
    {
     "data": {
      "text/html": [
       "<div>\n",
       "<style scoped>\n",
       "    .dataframe tbody tr th:only-of-type {\n",
       "        vertical-align: middle;\n",
       "    }\n",
       "\n",
       "    .dataframe tbody tr th {\n",
       "        vertical-align: top;\n",
       "    }\n",
       "\n",
       "    .dataframe thead th {\n",
       "        text-align: right;\n",
       "    }\n",
       "</style>\n",
       "<table border=\"1\" class=\"dataframe\">\n",
       "  <thead>\n",
       "    <tr style=\"text-align: right;\">\n",
       "      <th></th>\n",
       "      <th>Age</th>\n",
       "      <th>Gender</th>\n",
       "      <th>Total_Bilirubin</th>\n",
       "      <th>Direct_Bilirubin</th>\n",
       "      <th>Alkaline_Phosphotase</th>\n",
       "      <th>Alamine_Aminotransferase</th>\n",
       "      <th>Aspartate_Aminotransferase</th>\n",
       "      <th>Total_Protiens</th>\n",
       "      <th>Albumin</th>\n",
       "      <th>Albumin_and_Globulin_Ratio</th>\n",
       "      <th>Dataset</th>\n",
       "    </tr>\n",
       "  </thead>\n",
       "  <tbody>\n",
       "    <tr>\n",
       "      <th>0</th>\n",
       "      <td>70</td>\n",
       "      <td>Male</td>\n",
       "      <td>2.7</td>\n",
       "      <td>1.2</td>\n",
       "      <td>365</td>\n",
       "      <td>62</td>\n",
       "      <td>55</td>\n",
       "      <td>6.0</td>\n",
       "      <td>2.4</td>\n",
       "      <td>0.6</td>\n",
       "      <td>1</td>\n",
       "    </tr>\n",
       "    <tr>\n",
       "      <th>1</th>\n",
       "      <td>36</td>\n",
       "      <td>Male</td>\n",
       "      <td>2.8</td>\n",
       "      <td>1.5</td>\n",
       "      <td>305</td>\n",
       "      <td>28</td>\n",
       "      <td>76</td>\n",
       "      <td>5.9</td>\n",
       "      <td>2.5</td>\n",
       "      <td>0.7</td>\n",
       "      <td>1</td>\n",
       "    </tr>\n",
       "    <tr>\n",
       "      <th>2</th>\n",
       "      <td>42</td>\n",
       "      <td>Male</td>\n",
       "      <td>0.8</td>\n",
       "      <td>0.2</td>\n",
       "      <td>127</td>\n",
       "      <td>29</td>\n",
       "      <td>30</td>\n",
       "      <td>4.9</td>\n",
       "      <td>2.7</td>\n",
       "      <td>1.2</td>\n",
       "      <td>1</td>\n",
       "    </tr>\n",
       "    <tr>\n",
       "      <th>3</th>\n",
       "      <td>53</td>\n",
       "      <td>Male</td>\n",
       "      <td>19.8</td>\n",
       "      <td>10.4</td>\n",
       "      <td>238</td>\n",
       "      <td>39</td>\n",
       "      <td>221</td>\n",
       "      <td>8.1</td>\n",
       "      <td>2.5</td>\n",
       "      <td>0.4</td>\n",
       "      <td>1</td>\n",
       "    </tr>\n",
       "    <tr>\n",
       "      <th>4</th>\n",
       "      <td>32</td>\n",
       "      <td>Male</td>\n",
       "      <td>30.5</td>\n",
       "      <td>17.1</td>\n",
       "      <td>218</td>\n",
       "      <td>39</td>\n",
       "      <td>79</td>\n",
       "      <td>5.5</td>\n",
       "      <td>2.7</td>\n",
       "      <td>0.9</td>\n",
       "      <td>1</td>\n",
       "    </tr>\n",
       "  </tbody>\n",
       "</table>\n",
       "</div>"
      ],
      "text/plain": [
       "   Age Gender  Total_Bilirubin  Direct_Bilirubin  Alkaline_Phosphotase  \\\n",
       "0   70   Male              2.7               1.2                   365   \n",
       "1   36   Male              2.8               1.5                   305   \n",
       "2   42   Male              0.8               0.2                   127   \n",
       "3   53   Male             19.8              10.4                   238   \n",
       "4   32   Male             30.5              17.1                   218   \n",
       "\n",
       "   Alamine_Aminotransferase  Aspartate_Aminotransferase  Total_Protiens  \\\n",
       "0                        62                          55             6.0   \n",
       "1                        28                          76             5.9   \n",
       "2                        29                          30             4.9   \n",
       "3                        39                         221             8.1   \n",
       "4                        39                          79             5.5   \n",
       "\n",
       "   Albumin  Albumin_and_Globulin_Ratio  Dataset  \n",
       "0      2.4                         0.6        1  \n",
       "1      2.5                         0.7        1  \n",
       "2      2.7                         1.2        1  \n",
       "3      2.5                         0.4        1  \n",
       "4      2.7                         0.9        1  "
      ]
     },
     "execution_count": 2,
     "metadata": {},
     "output_type": "execute_result"
    }
   ],
   "source": [
    "#Dataset contains 48 patients data\n",
    "data=pd.read_csv('LIVER-PATIENT-DATA.csv')\n",
    "data.head()"
   ]
  },
  {
   "cell_type": "code",
   "execution_count": 3,
   "id": "38bd19d2",
   "metadata": {},
   "outputs": [
    {
     "data": {
      "text/plain": [
       "1    38\n",
       "0    10\n",
       "Name: Gender, dtype: int64"
      ]
     },
     "execution_count": 3,
     "metadata": {},
     "output_type": "execute_result"
    }
   ],
   "source": [
    "#Replace Male as 1 and Female as 0\n",
    "data.loc[data['Gender'] == 'Male', 'Gender'] = 1 \n",
    "data.loc[data['Gender'] == 'Female', 'Gender'] = 0\n",
    "data['Gender'].value_counts()"
   ]
  },
  {
   "cell_type": "code",
   "execution_count": 4,
   "id": "72fcbe1c",
   "metadata": {},
   "outputs": [
    {
     "data": {
      "text/plain": [
       "1    36\n",
       "2    12\n",
       "Name: Dataset, dtype: int64"
      ]
     },
     "execution_count": 4,
     "metadata": {},
     "output_type": "execute_result"
    }
   ],
   "source": [
    "data['Dataset'].value_counts()"
   ]
  },
  {
   "cell_type": "code",
   "execution_count": 5,
   "id": "5d08205f",
   "metadata": {},
   "outputs": [
    {
     "name": "stdout",
     "output_type": "stream",
     "text": [
      "<class 'pandas.core.frame.DataFrame'>\n",
      "RangeIndex: 48 entries, 0 to 47\n",
      "Data columns (total 11 columns):\n",
      " #   Column                      Non-Null Count  Dtype  \n",
      "---  ------                      --------------  -----  \n",
      " 0   Age                         48 non-null     int64  \n",
      " 1   Gender                      48 non-null     object \n",
      " 2   Total_Bilirubin             48 non-null     float64\n",
      " 3   Direct_Bilirubin            48 non-null     float64\n",
      " 4   Alkaline_Phosphotase        48 non-null     int64  \n",
      " 5   Alamine_Aminotransferase    48 non-null     int64  \n",
      " 6   Aspartate_Aminotransferase  48 non-null     int64  \n",
      " 7   Total_Protiens              48 non-null     float64\n",
      " 8   Albumin                     48 non-null     float64\n",
      " 9   Albumin_and_Globulin_Ratio  48 non-null     float64\n",
      " 10  Dataset                     48 non-null     int64  \n",
      "dtypes: float64(5), int64(5), object(1)\n",
      "memory usage: 4.2+ KB\n"
     ]
    }
   ],
   "source": [
    "data.info()"
   ]
  },
  {
   "cell_type": "code",
   "execution_count": 6,
   "id": "e535490e",
   "metadata": {},
   "outputs": [
    {
     "data": {
      "text/html": [
       "<div>\n",
       "<style scoped>\n",
       "    .dataframe tbody tr th:only-of-type {\n",
       "        vertical-align: middle;\n",
       "    }\n",
       "\n",
       "    .dataframe tbody tr th {\n",
       "        vertical-align: top;\n",
       "    }\n",
       "\n",
       "    .dataframe thead th {\n",
       "        text-align: right;\n",
       "    }\n",
       "</style>\n",
       "<table border=\"1\" class=\"dataframe\">\n",
       "  <thead>\n",
       "    <tr style=\"text-align: right;\">\n",
       "      <th></th>\n",
       "      <th>Age</th>\n",
       "      <th>Total_Bilirubin</th>\n",
       "      <th>Direct_Bilirubin</th>\n",
       "      <th>Alkaline_Phosphotase</th>\n",
       "      <th>Alamine_Aminotransferase</th>\n",
       "      <th>Aspartate_Aminotransferase</th>\n",
       "      <th>Total_Protiens</th>\n",
       "      <th>Albumin</th>\n",
       "      <th>Albumin_and_Globulin_Ratio</th>\n",
       "    </tr>\n",
       "    <tr>\n",
       "      <th>Dataset</th>\n",
       "      <th></th>\n",
       "      <th></th>\n",
       "      <th></th>\n",
       "      <th></th>\n",
       "      <th></th>\n",
       "      <th></th>\n",
       "      <th></th>\n",
       "      <th></th>\n",
       "      <th></th>\n",
       "    </tr>\n",
       "  </thead>\n",
       "  <tbody>\n",
       "    <tr>\n",
       "      <th>1</th>\n",
       "      <td>46.805556</td>\n",
       "      <td>9.319444</td>\n",
       "      <td>4.616667</td>\n",
       "      <td>250.694444</td>\n",
       "      <td>71.361111</td>\n",
       "      <td>142.555556</td>\n",
       "      <td>6.700000</td>\n",
       "      <td>2.877778</td>\n",
       "      <td>0.755556</td>\n",
       "    </tr>\n",
       "    <tr>\n",
       "      <th>2</th>\n",
       "      <td>46.166667</td>\n",
       "      <td>0.883333</td>\n",
       "      <td>0.266667</td>\n",
       "      <td>195.000000</td>\n",
       "      <td>31.250000</td>\n",
       "      <td>33.250000</td>\n",
       "      <td>7.133333</td>\n",
       "      <td>3.466667</td>\n",
       "      <td>0.916667</td>\n",
       "    </tr>\n",
       "  </tbody>\n",
       "</table>\n",
       "</div>"
      ],
      "text/plain": [
       "               Age  Total_Bilirubin  Direct_Bilirubin  Alkaline_Phosphotase  \\\n",
       "Dataset                                                                       \n",
       "1        46.805556         9.319444          4.616667            250.694444   \n",
       "2        46.166667         0.883333          0.266667            195.000000   \n",
       "\n",
       "         Alamine_Aminotransferase  Aspartate_Aminotransferase  Total_Protiens  \\\n",
       "Dataset                                                                         \n",
       "1                       71.361111                  142.555556        6.700000   \n",
       "2                       31.250000                   33.250000        7.133333   \n",
       "\n",
       "          Albumin  Albumin_and_Globulin_Ratio  \n",
       "Dataset                                        \n",
       "1        2.877778                    0.755556  \n",
       "2        3.466667                    0.916667  "
      ]
     },
     "execution_count": 6,
     "metadata": {},
     "output_type": "execute_result"
    }
   ],
   "source": [
    "data.groupby('Dataset').mean()"
   ]
  },
  {
   "cell_type": "code",
   "execution_count": 7,
   "id": "54f89b7f",
   "metadata": {},
   "outputs": [
    {
     "data": {
      "text/html": [
       "<div>\n",
       "<style scoped>\n",
       "    .dataframe tbody tr th:only-of-type {\n",
       "        vertical-align: middle;\n",
       "    }\n",
       "\n",
       "    .dataframe tbody tr th {\n",
       "        vertical-align: top;\n",
       "    }\n",
       "\n",
       "    .dataframe thead th {\n",
       "        text-align: right;\n",
       "    }\n",
       "</style>\n",
       "<table border=\"1\" class=\"dataframe\">\n",
       "  <thead>\n",
       "    <tr style=\"text-align: right;\">\n",
       "      <th></th>\n",
       "      <th>Age</th>\n",
       "      <th>Total_Bilirubin</th>\n",
       "      <th>Direct_Bilirubin</th>\n",
       "      <th>Alkaline_Phosphotase</th>\n",
       "      <th>Alamine_Aminotransferase</th>\n",
       "      <th>Aspartate_Aminotransferase</th>\n",
       "      <th>Total_Protiens</th>\n",
       "      <th>Albumin</th>\n",
       "      <th>Albumin_and_Globulin_Ratio</th>\n",
       "      <th>Dataset</th>\n",
       "    </tr>\n",
       "  </thead>\n",
       "  <tbody>\n",
       "    <tr>\n",
       "      <th>count</th>\n",
       "      <td>48.000000</td>\n",
       "      <td>48.000000</td>\n",
       "      <td>48.000000</td>\n",
       "      <td>48.000000</td>\n",
       "      <td>48.000000</td>\n",
       "      <td>48.000000</td>\n",
       "      <td>48.000000</td>\n",
       "      <td>48.000000</td>\n",
       "      <td>48.000000</td>\n",
       "      <td>48.000000</td>\n",
       "    </tr>\n",
       "    <tr>\n",
       "      <th>mean</th>\n",
       "      <td>46.645833</td>\n",
       "      <td>7.210417</td>\n",
       "      <td>3.529167</td>\n",
       "      <td>236.770833</td>\n",
       "      <td>61.333333</td>\n",
       "      <td>115.229167</td>\n",
       "      <td>6.808333</td>\n",
       "      <td>3.025000</td>\n",
       "      <td>0.795833</td>\n",
       "      <td>1.250000</td>\n",
       "    </tr>\n",
       "    <tr>\n",
       "      <th>std</th>\n",
       "      <td>11.868947</td>\n",
       "      <td>9.919811</td>\n",
       "      <td>5.043511</td>\n",
       "      <td>87.472121</td>\n",
       "      <td>77.029791</td>\n",
       "      <td>147.954024</td>\n",
       "      <td>1.208099</td>\n",
       "      <td>0.753291</td>\n",
       "      <td>0.247505</td>\n",
       "      <td>0.437595</td>\n",
       "    </tr>\n",
       "    <tr>\n",
       "      <th>min</th>\n",
       "      <td>10.000000</td>\n",
       "      <td>0.600000</td>\n",
       "      <td>0.100000</td>\n",
       "      <td>97.000000</td>\n",
       "      <td>12.000000</td>\n",
       "      <td>15.000000</td>\n",
       "      <td>3.600000</td>\n",
       "      <td>1.000000</td>\n",
       "      <td>0.300000</td>\n",
       "      <td>1.000000</td>\n",
       "    </tr>\n",
       "    <tr>\n",
       "      <th>25%</th>\n",
       "      <td>40.000000</td>\n",
       "      <td>0.875000</td>\n",
       "      <td>0.200000</td>\n",
       "      <td>187.250000</td>\n",
       "      <td>24.000000</td>\n",
       "      <td>28.000000</td>\n",
       "      <td>5.975000</td>\n",
       "      <td>2.500000</td>\n",
       "      <td>0.675000</td>\n",
       "      <td>1.000000</td>\n",
       "    </tr>\n",
       "    <tr>\n",
       "      <th>50%</th>\n",
       "      <td>46.000000</td>\n",
       "      <td>1.750000</td>\n",
       "      <td>0.800000</td>\n",
       "      <td>216.500000</td>\n",
       "      <td>40.000000</td>\n",
       "      <td>53.500000</td>\n",
       "      <td>6.950000</td>\n",
       "      <td>3.000000</td>\n",
       "      <td>0.800000</td>\n",
       "      <td>1.000000</td>\n",
       "    </tr>\n",
       "    <tr>\n",
       "      <th>75%</th>\n",
       "      <td>54.250000</td>\n",
       "      <td>11.000000</td>\n",
       "      <td>5.700000</td>\n",
       "      <td>288.250000</td>\n",
       "      <td>67.250000</td>\n",
       "      <td>161.500000</td>\n",
       "      <td>7.600000</td>\n",
       "      <td>3.625000</td>\n",
       "      <td>1.000000</td>\n",
       "      <td>1.250000</td>\n",
       "    </tr>\n",
       "    <tr>\n",
       "      <th>max</th>\n",
       "      <td>70.000000</td>\n",
       "      <td>32.600000</td>\n",
       "      <td>18.300000</td>\n",
       "      <td>466.000000</td>\n",
       "      <td>509.000000</td>\n",
       "      <td>630.000000</td>\n",
       "      <td>9.200000</td>\n",
       "      <td>4.600000</td>\n",
       "      <td>1.200000</td>\n",
       "      <td>2.000000</td>\n",
       "    </tr>\n",
       "  </tbody>\n",
       "</table>\n",
       "</div>"
      ],
      "text/plain": [
       "             Age  Total_Bilirubin  Direct_Bilirubin  Alkaline_Phosphotase  \\\n",
       "count  48.000000        48.000000         48.000000             48.000000   \n",
       "mean   46.645833         7.210417          3.529167            236.770833   \n",
       "std    11.868947         9.919811          5.043511             87.472121   \n",
       "min    10.000000         0.600000          0.100000             97.000000   \n",
       "25%    40.000000         0.875000          0.200000            187.250000   \n",
       "50%    46.000000         1.750000          0.800000            216.500000   \n",
       "75%    54.250000        11.000000          5.700000            288.250000   \n",
       "max    70.000000        32.600000         18.300000            466.000000   \n",
       "\n",
       "       Alamine_Aminotransferase  Aspartate_Aminotransferase  Total_Protiens  \\\n",
       "count                 48.000000                   48.000000       48.000000   \n",
       "mean                  61.333333                  115.229167        6.808333   \n",
       "std                   77.029791                  147.954024        1.208099   \n",
       "min                   12.000000                   15.000000        3.600000   \n",
       "25%                   24.000000                   28.000000        5.975000   \n",
       "50%                   40.000000                   53.500000        6.950000   \n",
       "75%                   67.250000                  161.500000        7.600000   \n",
       "max                  509.000000                  630.000000        9.200000   \n",
       "\n",
       "         Albumin  Albumin_and_Globulin_Ratio    Dataset  \n",
       "count  48.000000                   48.000000  48.000000  \n",
       "mean    3.025000                    0.795833   1.250000  \n",
       "std     0.753291                    0.247505   0.437595  \n",
       "min     1.000000                    0.300000   1.000000  \n",
       "25%     2.500000                    0.675000   1.000000  \n",
       "50%     3.000000                    0.800000   1.000000  \n",
       "75%     3.625000                    1.000000   1.250000  \n",
       "max     4.600000                    1.200000   2.000000  "
      ]
     },
     "execution_count": 7,
     "metadata": {},
     "output_type": "execute_result"
    }
   ],
   "source": [
    "data.describe()"
   ]
  },
  {
   "cell_type": "code",
   "execution_count": 8,
   "id": "7f6c1cd6",
   "metadata": {},
   "outputs": [],
   "source": [
    "A = data.drop(columns='Dataset', axis=1)\n",
    "B = data['Dataset']\n",
    "A_train, A_test, B_train, B_test = train_test_split(A, B, test_size=0.35, stratify=B, random_state=5)"
   ]
  },
  {
   "cell_type": "code",
   "execution_count": 9,
   "id": "d0f2af60",
   "metadata": {},
   "outputs": [
    {
     "data": {
      "text/plain": [
       "GradientBoostingClassifier()"
      ]
     },
     "execution_count": 9,
     "metadata": {},
     "output_type": "execute_result"
    }
   ],
   "source": [
    "from sklearn.ensemble import GradientBoostingClassifier\n",
    "GBCModel = GradientBoostingClassifier()\n",
    "GBCModel.fit(A_train, B_train)"
   ]
  },
  {
   "cell_type": "code",
   "execution_count": 10,
   "id": "910d5328",
   "metadata": {},
   "outputs": [
    {
     "name": "stdout",
     "output_type": "stream",
     "text": [
      "Training data Accuracy:  100.0 %\n",
      "Test data Accuracy:  58.82352941176471 %\n"
     ]
    }
   ],
   "source": [
    "A_train_predict = GBCModel.predict(A_train)\n",
    "train_accuracy = accuracy_score( np.round(abs(A_train_predict)), B_train )\n",
    "\n",
    "A_test_predict = GBCModel.predict(A_test)\n",
    "test_accuracy = accuracy_score(np.round(abs(A_test_predict)) ,B_test)\n",
    "\n",
    "print('Training data Accuracy: ', train_accuracy*100 ,'%')\n",
    "print('Test data Accuracy: ', test_accuracy*100 ,'%')"
   ]
  },
  {
   "cell_type": "code",
   "execution_count": 11,
   "id": "36150b9d",
   "metadata": {},
   "outputs": [
    {
     "data": {
      "text/plain": [
       "GradientBoostingRegressor(random_state=5)"
      ]
     },
     "execution_count": 11,
     "metadata": {},
     "output_type": "execute_result"
    }
   ],
   "source": [
    "from sklearn.ensemble import GradientBoostingRegressor\n",
    "GBRModel = GradientBoostingRegressor(random_state=5)\n",
    "GBRModel.fit(A_train, B_train)"
   ]
  },
  {
   "cell_type": "code",
   "execution_count": 12,
   "id": "2b2ceea8",
   "metadata": {},
   "outputs": [
    {
     "name": "stdout",
     "output_type": "stream",
     "text": [
      "Training data Accuracy:  100.0 %\n",
      "Test data Accuracy:  58.82352941176471 %\n"
     ]
    }
   ],
   "source": [
    "A_train_predict = GBRModel.predict(A_train)\n",
    "train_accuracy = accuracy_score( np.round(abs(A_train_predict)), B_train )\n",
    "\n",
    "A_test_predict = GBRModel.predict(A_test)\n",
    "test_accuracy = accuracy_score(np.round(abs(A_test_predict)) ,B_test)\n",
    "\n",
    "print('Training data Accuracy: ', train_accuracy*100 ,'%')\n",
    "print('Test data Accuracy: ', test_accuracy*100 ,'%')"
   ]
  },
  {
   "cell_type": "code",
   "execution_count": 13,
   "id": "266703c0",
   "metadata": {},
   "outputs": [
    {
     "data": {
      "text/plain": [
       "['GBCLiver.pkl']"
      ]
     },
     "execution_count": 13,
     "metadata": {},
     "output_type": "execute_result"
    }
   ],
   "source": [
    "joblib.dump(GBCModel,'GBCLiver.pkl')"
   ]
  },
  {
   "cell_type": "code",
   "execution_count": 14,
   "id": "b91c72d8",
   "metadata": {},
   "outputs": [
    {
     "data": {
      "text/plain": [
       "['GBRLiver.pkl']"
      ]
     },
     "execution_count": 14,
     "metadata": {},
     "output_type": "execute_result"
    }
   ],
   "source": [
    "joblib.dump(GBRModel,'GBRLiver.pkl')"
   ]
  },
  {
   "cell_type": "code",
   "execution_count": 15,
   "id": "0e89d7b2",
   "metadata": {},
   "outputs": [],
   "source": [
    "GBCLiver=joblib.load('GBCLiver.pkl')\n",
    "GBRLiver=joblib.load('GBRLiver.pkl')\n",
    "input_data = (1,60,0.5,1.8,45,201,3.9,25,0.7,1.7)\n",
    "\n",
    "# change the input data to a numpy array\n",
    "input_data_as_numpy_array= np.asarray(input_data)\n",
    "# reshape the numpy array as we are predicting for only on instance\n",
    "input_data_reshaped = input_data_as_numpy_array.reshape(1,-1)"
   ]
  },
  {
   "cell_type": "code",
   "execution_count": 16,
   "id": "eb62d60e",
   "metadata": {},
   "outputs": [
    {
     "name": "stdout",
     "output_type": "stream",
     "text": [
      "Liver Patient\n",
      "Possiblility :  0.942401131163028 %\n"
     ]
    }
   ],
   "source": [
    "import warnings\n",
    "warnings.filterwarnings(\"ignore\")\n",
    "PredictGBCLiver = GBCLiver.predict(input_data_reshaped)\n",
    "PredictGBRLiver= GBRLiver.predict(input_data_reshaped)\n",
    "if (PredictGBCLiver[0]== 0):\n",
    "  print('Non Liver Patient ')\n",
    "else:\n",
    "  print('Liver Patient')\n",
    "\n",
    "print('Possiblility : ',PredictGBRLiver[0] ,'%')"
   ]
  },
  {
   "cell_type": "code",
   "execution_count": null,
   "id": "fde8e1bf",
   "metadata": {},
   "outputs": [],
   "source": []
  }
 ],
 "metadata": {
  "kernelspec": {
   "display_name": "Python 3 (ipykernel)",
   "language": "python",
   "name": "python3"
  },
  "language_info": {
   "codemirror_mode": {
    "name": "ipython",
    "version": 3
   },
   "file_extension": ".py",
   "mimetype": "text/x-python",
   "name": "python",
   "nbconvert_exporter": "python",
   "pygments_lexer": "ipython3",
   "version": "3.9.12"
  }
 },
 "nbformat": 4,
 "nbformat_minor": 5
}
